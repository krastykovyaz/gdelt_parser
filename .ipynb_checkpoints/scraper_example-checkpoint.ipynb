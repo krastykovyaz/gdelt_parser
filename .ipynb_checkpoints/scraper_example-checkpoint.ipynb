{
 "cells": [
  {
   "cell_type": "code",
   "execution_count": 74,
   "id": "bb61717c-78a0-4ff5-ad25-6ae62a9b9fa4",
   "metadata": {},
   "outputs": [
    {
     "name": "stdout",
     "output_type": "stream",
     "text": [
      "The autoreload extension is already loaded. To reload it, use:\n",
      "  %reload_ext autoreload\n"
     ]
    }
   ],
   "source": [
    "from scraper import *\n",
    "\n",
    "%load_ext autoreload\n",
    "%autoreload 2"
   ]
  },
  {
   "cell_type": "code",
   "execution_count": 68,
   "id": "6741da96-078c-47ce-82c0-064c55581b07",
   "metadata": {},
   "outputs": [],
   "source": [
    "start = '2015-01-01'\n",
    "end = '2021-07-01'\n",
    "names = ['bloomberg.com', 'seekingalpha.com']"
   ]
  },
  {
   "cell_type": "code",
   "execution_count": 69,
   "id": "85ea1d0b-70d2-45e3-b2fb-c0179c52c5b1",
   "metadata": {},
   "outputs": [
    {
     "data": {
      "application/vnd.jupyter.widget-view+json": {
       "model_id": "8fd2911033f04898b7f8d78aaebec30d",
       "version_major": 2,
       "version_minor": 0
      },
      "text/plain": [
       "0it [00:00, ?it/s]"
      ]
     },
     "metadata": {},
     "output_type": "display_data"
    }
   ],
   "source": [
    "df = get_data(names, start, end, True)"
   ]
  },
  {
   "cell_type": "code",
   "execution_count": null,
   "id": "72a4eda0-ec6f-4d58-a1b3-dedc32683c78",
   "metadata": {},
   "outputs": [],
   "source": [
    "bodies = get_bodies(df)"
   ]
  },
  {
   "cell_type": "code",
   "execution_count": null,
   "id": "2f82728f-960f-48c5-8180-2454bd19473a",
   "metadata": {},
   "outputs": [],
   "source": []
  }
 ],
 "metadata": {
  "kernelspec": {
   "display_name": "Python 3 (ipykernel)",
   "language": "python",
   "name": "python3"
  },
  "language_info": {
   "codemirror_mode": {
    "name": "ipython",
    "version": 3
   },
   "file_extension": ".py",
   "mimetype": "text/x-python",
   "name": "python",
   "nbconvert_exporter": "python",
   "pygments_lexer": "ipython3",
   "version": "3.8.11"
  }
 },
 "nbformat": 4,
 "nbformat_minor": 5
}
