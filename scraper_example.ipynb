{
 "cells": [
  {
   "cell_type": "code",
   "execution_count": null,
   "id": "015a8e89-20bf-4616-81b1-682757aaa09b",
   "metadata": {},
   "outputs": [],
   "source": [
    "\n"
   ]
  },
  {
   "cell_type": "code",
   "execution_count": 1,
   "id": "bb61717c-78a0-4ff5-ad25-6ae62a9b9fa4",
   "metadata": {},
   "outputs": [
    {
     "name": "stderr",
     "output_type": "stream",
     "text": [
      "/home/alex/luxemburg_project/venv/lib/python3.10/site-packages/tqdm/auto.py:21: TqdmWarning: IProgress not found. Please update jupyter and ipywidgets. See https://ipywidgets.readthedocs.io/en/stable/user_install.html\n",
      "  from .autonotebook import tqdm as notebook_tqdm\n"
     ]
    }
   ],
   "source": [
    "from scraper import *\n",
    "\n",
    "%load_ext autoreload\n",
    "%autoreload 2"
   ]
  },
  {
   "cell_type": "code",
   "execution_count": 2,
   "id": "6741da96-078c-47ce-82c0-064c55581b07",
   "metadata": {},
   "outputs": [],
   "source": [
    "start = '2015-01-01'\n",
    "end = '2021-07-01'\n",
    "names = ['bloomberg.com', 'seekingalpha.com']"
   ]
  },
  {
   "cell_type": "code",
   "execution_count": 3,
   "id": "85ea1d0b-70d2-45e3-b2fb-c0179c52c5b1",
   "metadata": {},
   "outputs": [],
   "source": [
    "# df = get_data(names, start, end, True)"
   ]
  },
  {
   "cell_type": "code",
   "execution_count": 4,
   "id": "c8a3c9f1-4e75-4f98-905a-3422540f7548",
   "metadata": {},
   "outputs": [],
   "source": [
    "links = ['http://seekingalpha.com/article/2789985-matson-this-wonderful-business-is-about-to-get-even-better-in-2015',\n",
    " 'http://www.bloomberg.com/news/2015-01-02/south-korea-says-open-to-a-candid-discussion-with-north-korea.html',\n",
    " 'http://www.bloomberg.com/news/2015-01-01/kim-jong-un-says-open-to-highest-level-talks-with-south-korea.html?hootPostID=a9ad40158b042212bd758ccd4664132b&c=csBDDFGOyA5_S5ugJZQ1NstJ-ewzoYKqlU2hl-hmAys&mkt=en-us',\n",
    " 'http://www.bloomberg.com/news/2015-01-01/flood-hit-areas-in-malaysia-may-see-showers-as-palm-oil-climbs.html',\n",
    " 'http://www.bloomberg.com/news/2015-01-01/nigeria-militants-kill-11-as-jonathan-vows-to-wipe-out-terrorism.html']"
   ]
  },
  {
   "cell_type": "code",
   "execution_count": 5,
   "id": "3b283769-e516-49af-97a7-59e28acb8fce",
   "metadata": {},
   "outputs": [],
   "source": [
    "# sub_df = df.iloc[:10]\n",
    "sub_df = pd.DataFrame({'link':links})"
   ]
  },
  {
   "cell_type": "code",
   "execution_count": 6,
   "id": "72a4eda0-ec6f-4d58-a1b3-dedc32683c78",
   "metadata": {},
   "outputs": [],
   "source": [
    "bodies = get_bodies(sub_df)"
   ]
  },
  {
   "cell_type": "code",
   "execution_count": null,
   "id": "9d3e2dd7-ae98-41c4-9c22-0f7c63a90bf1",
   "metadata": {},
   "outputs": [],
   "source": []
  },
  {
   "cell_type": "code",
   "execution_count": 7,
   "id": "2dd0c115-32e0-4cad-a199-074feb73debf",
   "metadata": {},
   "outputs": [],
   "source": [
    "options = webdriver.ChromeOptions()\n",
    "options.add_argument(\"headless\")\n",
    "driver = webdriver.Chrome(options=options)\n"
   ]
  },
  {
   "cell_type": "code",
   "execution_count": 8,
   "id": "5fa2c9cd-16f3-4c25-868a-686a0d3be18f",
   "metadata": {},
   "outputs": [],
   "source": [
    "driver.get(links[3])"
   ]
  },
  {
   "cell_type": "code",
   "execution_count": 9,
   "id": "7e1b483a-c31e-4f02-b6c5-8c108232da68",
   "metadata": {},
   "outputs": [
    {
     "name": "stdout",
     "output_type": "stream",
     "text": [
      "Please make sure your browser supports JavaScript and cookies and that you are not\n",
      "            blocking them from loading.\n",
      "            For more information you can review our Terms of\n",
      "                Service and Cookie Policy. For inquiries related to this message please contact\n",
      "            our support team and provide the reference ID below.\n"
     ]
    }
   ],
   "source": [
    "page_source = driver.page_source\n",
    "driver.quit()\n",
    "soup = BeautifulSoup(page_source)\n",
    "paragraphs = [p.text for p in soup.find_all('p')]\n",
    "if 'seekingalpha' in links[3]:\n",
    "    print(' '.join(paragraphs[:-3]))\n",
    "elif 'bloomberg' in links[3]:\n",
    "    print(' '.join(paragraphs[-2:]))\n",
    "else:\n",
    "    raise \"No such data\""
   ]
  },
  {
   "cell_type": "code",
   "execution_count": 10,
   "id": "81b433f7-5302-4d12-b133-f5d571403875",
   "metadata": {},
   "outputs": [
    {
     "data": {
      "text/plain": [
       "'<html lang=\"en\"><head>\\n    <title>Bloomberg - Are you a robot?</title>\\n    <meta name=\"viewport\" content=\"width=device-width, initial-scale=1\">\\n    <meta name=\"robots\" content=\"noindex\">\\n    <style rel=\"stylesheet\">\\n        @font-face {\\n            font-family: BWHaasGroteskWeb;\\n            font-display: swap;\\n            font-weight: 400;\\n            font-style: normal;\\n            src: url(\\'https://assets.bwbx.io/s3/fontservice/fonts/BWHaasGrotesk-55Roman-Web-7998fbcba8.eot\\');\\n            src: local(\\'?\\'), url(\\'https://assets.bwbx.io/s3/fontservice/fonts/BWHaasGrotesk-55Roman-Web-5cf5733cd9.woff2\\') format(\\'woff2\\'), url(\\'https://assets.bwbx.io/s3/fontservice/fonts/BWHaasGrotesk-55Roman-Web-a1ea4fd367.woff\\') format(\\'woff\\')\\n        }\\n\\n        @font-face {\\n            font-family: BWHaasGroteskWeb;\\n            font-display: swap;\\n            font-weight: 700;\\n            font-style: normal;\\n            src: url(\\'https://assets.bwbx.io/s3/fontservice/fonts/BWHaasGrotesk-75Bold-Web-de8c77cce2.woff2\\') format(\\'woff2\\'), url(\\'https://assets.bwbx.io/s3/fontservice/fonts/BWHaasGrotesk-75Bold-Web-506363704e.woff\\') format(\\'woff\\')\\n        }\\n    </style>\\n    <style rel=\"stylesheet\">\\n        html, body, div, span, applet, object, iframe,\\n        h1, h2, h3, h4, h5, h6, p, blockquote, pre,\\n        a, abbr, acronym, address, big, cite, code,\\n        del, dfn, em, img, ins, kbd, q, s, samp,\\n        small, strike, strong, sub, sup, tt, var,\\n        b, u, i, center,\\n        dl, dt, dd, ol, ul, li,\\n        fieldset, form, label, legend,\\n        table, caption, tbody, tfoot, thead, tr, th, td,\\n        article, aside, canvas, details, embed,\\n        figure, figcaption, footer, header, hgroup,\\n        menu, nav, output, ruby, section, summary,\\n        time, mark, audio, video {\\n            margin: 0;\\n            padding: 0;\\n            border: 0;\\n            font-size: 100%;\\n            font: inherit;\\n            vertical-align: baseline;\\n        }\\n\\n        /* HTML5 display-role reset for older browsers */\\n        article, aside, details, figcaption, figure,\\n        footer, header, hgroup, menu, nav, section {\\n            display: block;\\n        }\\n\\n        body {\\n            line-height: 1;\\n        }\\n\\n        ol, ul {\\n            list-style: none;\\n        }\\n\\n        blockquote, q {\\n            quotes: none;\\n        }\\n\\n        blockquote:before, blockquote:after,\\n        q:before, q:after {\\n            content: \\'\\';\\n            content: none;\\n        }\\n\\n        table {\\n            border-collapse: collapse;\\n            border-spacing: 0;\\n        }\\n\\n        * {\\n            box-sizing: border-box;\\n        }\\n\\n        body {\\n            background-color: #f2f2f2;\\n            font-family: \"BWHaasGroteskWeb\", Helvetica, Arial, sans-serif;\\n            line-height: 1.2;\\n        }\\n\\n        .header {\\n            margin: 0;\\n            height: 60px;\\n            width: 100%;\\n            background-color: black;\\n            color: white;\\n            overflow-x: hidden;\\n        }\\n\\n        .logo {\\n            float: left;\\n            margin: 0 20px;\\n            height: 60px;\\n            width: 140px;\\n            background-image: url(\\'data:image/svg+xml;base64,PHN2ZyBpZD0iTGF5ZXJfMSIgZGF0YS1uYW1lPSJMYXllciAxIiB4bWxucz0iaHR0cDovL3d3dy53My5vcmcvMjAwMC9zdmciIHZpZXdCb3g9IjAgMCAyNTcuNzUgNDcuNjMiPjxkZWZzPjxzdHlsZT4uY2xzLTF7ZmlsbDojZmZmO308L3N0eWxlPjwvZGVmcz48dGl0bGU+Qmxvb21iZXJnX05IR193aHQ8L3RpdGxlPjxwYXRoIGNsYXNzPSJjbHMtMSIgZD0iTTgxLjczLDExMzhIMTAwLjZjMy41NywwLDYuMzIuODcsOC4yNiwyLjQ1YTkuNDUsOS40NSwwLDAsMSwzLjM3LDcuNmMwLDMuNjctMS40OCw2LTQuNTQsNy4zOXYwLjE1YzQsMS4zMyw2LjI3LDQuOSw2LjI3LDkuMjMsMCw0LjEzLTEuNTgsNy4zNC00LjE4LDkuMjgtMi4xOSwxLjU4LTUsMi4zNS04LjgyLDIuMzVIODEuNzNWMTEzOFptMTcsMTVjMiwwLDMuNTItMS4xMiwzLjUyLTMuMzdzLTEuNTMtMy4yNi0zLjU3LTMuMjZIOTIuMTlWMTE1M2g2LjUzWm0xLDE0Ljg5YTMuOTMsMy45MywwLDEsMC0uMDUtNy44NUg5Mi4xOXY3Ljg1aDcuNVoiIHRyYW5zZm9ybT0idHJhbnNsYXRlKC04MS43MyAtMTEzNy45OCkiLz48cGF0aCBjbGFzcz0iY2xzLTEiIGQ9Ik0xMTUuOCwxMTM4aDkuODl2MzguNDVIMTE1LjhWMTEzOFoiIHRyYW5zZm9ybT0idHJhbnNsYXRlKC04MS43MyAtMTEzNy45OCkiLz48cGF0aCBjbGFzcz0iY2xzLTEiIGQ9Ik0xMjcuNjksMTE2Mi43N2MwLTguNjcsNS42MS0xNC41NCwxNC4yOC0xNC41NHMxNC4xOCw1Ljg3LDE0LjE4LDE0LjU0LTUuNTEsMTQuNTMtMTQuMTgsMTQuNTNTMTI3LjY5LDExNzEuNDgsMTI3LjY5LDExNjIuNzdabTE4LjY2LDBjMC00Ljc5LTEuNTMtNy44LTQuNDktNy44cy00LjM5LDMtNC4zOSw3LjgsMS40Myw3Ljg1LDQuMzksNy44NVMxNDYuMzUsMTE2Ny42MSwxNDYuMzUsMTE2Mi43N1oiIHRyYW5zZm9ybT0idHJhbnNsYXRlKC04MS43MyAtMTEzNy45OCkiLz48cGF0aCBjbGFzcz0iY2xzLTEiIGQ9Ik0xNTcuMzIsMTE2Mi43N2MwLTguNjcsNS42MS0xNC41NCwxNC4yOC0xNC41NHMxNC4xOCw1Ljg3LDE0LjE4LDE0LjU0LTUuNTEsMTQuNTMtMTQuMTgsMTQuNTNTMTU3LjMyLDExNzEuNDgsMTU3LjMyLDExNjIuNzdabTE4LjY2LDBjMC00Ljc5LTEuNTMtNy44LTQuNDktNy44cy00LjM5LDMtNC4zOSw3LjgsMS40Myw3Ljg1LDQuMzksNy44NVMxNzYsMTE2Ny42MSwxNzYsMTE2Mi43N1oiIHRyYW5zZm9ybT0idHJhbnNsYXRlKC04MS43MyAtMTEzNy45OCkiLz48cGF0aCBjbGFzcz0iY2xzLTEiIGQ9Ik0xODcuNzYsMTE0OWg5LjE4djQuMTNoMC4xNWMxLjg0LTMuMjEsNC4zMy00Ljk1LDguMjYtNC45NWE3LjY2LDcuNjYsMCwwLDEsNy4zOSw0Ljc0aDAuMTVhOS4yMSw5LjIxLDAsMCwxLDguNTItNC43NGM2LjM3LDAsOS4xMyw0LjY5LDkuMTMsMTF2MTcuMjRoLTkuNjR2LTE1LjVjMC0yLjgtLjg3LTQuNjQtMy4zMS00LjY0cy0zLjYyLDIuMjQtMy42Miw1LjJ2MTQuOTRoLTkuNjR2LTE1LjVjMC0yLjgtLjg3LTQuNjQtMy4zMS00LjY0cy0zLjYyLDIuMjQtMy42Miw1LjJ2MTQuOTRoLTkuNjRWMTE0OVoiIHRyYW5zZm9ybT0idHJhbnNsYXRlKC04MS43MyAtMTEzNy45OCkiLz48cGF0aCBjbGFzcz0iY2xzLTEiIGQ9Ik0yNDIuNjksMTE3Mi44NmgtMC4xdjMuNTdoLTkuMThWMTEzOEgyNDN2MTMuODdoMC4xNWE5LjEyLDkuMTIsMCwwLDEsNy44LTMuNjdjNi44OCwwLDEwLjg2LDYuMjIsMTAuODYsMTQuNDgsMCw5LjMzLTQuMzMsMTQuNjktMTEuNDcsMTQuNjlBOC42Nyw4LjY3LDAsMCwxLDI0Mi42OSwxMTcyLjg2Wm05LjM4LTEwLjNjMC00LjQ0LTEuNjMtNy4yOS00LjU0LTcuMjlzLTQuODQsMi44Ni00Ljg0LDcuMjksMS44OSw3LjI5LDQuODQsNy4yOVMyNTIuMDcsMTE2NywyNTIuMDcsMTE2Mi41NloiIHRyYW5zZm9ybT0idHJhbnNsYXRlKC04MS43MyAtMTEzNy45OCkiLz48cGF0aCBjbGFzcz0iY2xzLTEiIGQ9Ik0yNjMsMTE2Mi42NmMwLTguNTcsNS42Ni0xNC41MywxMy44Ny0xNC41M2ExMy4zNCwxMy4zNCwwLDAsMSw5LjY0LDMuNTdjMy4xNiwzLjA2LDQuNTksNy44NSw0LjQ5LDEzLjUxSDI3Mi42M2MwLjQxLDMuNDIsMiw1LjE1LDQuOTUsNS4xNWEzLjcsMy43LDAsMCwwLDMuNzctMi42aDkuMjhjLTEuNjMsNi4yNy02LjQ4LDkuNDQtMTMuMzYsOS40NEMyNjguNzUsMTE3Ny4yLDI2MywxMTcxLjQzLDI2MywxMTYyLjY2Wm05LjU5LTIuODZoOC43N2MtMC4xNS0zLjMxLTItNS00LjI4LTVDMjc0LjQ2LDExNTQuNzYsMjczLDExNTYuNjQsMjcyLjYzLDExNTkuODFaIiB0cmFuc2Zvcm09InRyYW5zbGF0ZSgtODEuNzMgLTExMzcuOTgpIi8+PHBhdGggY2xhc3M9ImNscy0xIiBkPSJNMzAyLDExNTMuNjloMC4xNWMyLTMuODIsNC41OS01LjI1LDcuOS01LjI1YTMuNzIsMy43MiwwLDAsMSwxLjU4LjI1djguNDFoLTAuMmMtNS42Ni0xLTksMS42OC05LDcuODV2MTEuNDdoLTkuNjRWMTE0OUgzMDJ2NC42OVoiIHRyYW5zZm9ybT0idHJhbnNsYXRlKC04MS43MyAtMTEzNy45OCkiLz48cGF0aCBjbGFzcz0iY2xzLTEiIGQ9Ik0zMTIuNjYsMTE3Ni40OGg5LjI4YzAuMzYsMS4xNywxLjU4LDIuMzUsMy44OCwyLjM1LDMuMTEsMCw0LjE4LTEuOTQsNC4xOC00Ljc5di0yaC0wLjJhOC4yNiw4LjI2LDAsMCwxLTYuNTgsMy4xMWMtNS45MiwwLTExLjA3LTQuMzgtMTEuMDctMTMsMC03Ljg1LDQuMjMtMTQsMTAuNjEtMTQsMy42NywwLDUuOTEsMS40OCw3LjM5LDMuODJoMC4xNXYtM2g5LjE4djIzLjc2YzAsNC4zOC0xLjUzLDcuOC0zLjgyLDkuODRzLTUuODEsMy05LjY5LDNDMzE4LjY4LDExODUuNjEsMzEzLjU4LDExODIuNiwzMTIuNjYsMTE3Ni40OFptMTcuNzUtMTQuNzljMC0zLjQyLTEuNjMtNi4xNy00LjQ0LTYuMTdzLTQuNDQsMi40NS00LjQ0LDYuMTcsMS43Myw2LjMyLDQuNDQsNi4zMlMzMzAuNDEsMTE2NS4zMSwzMzAuNDEsMTE2MS42OVoiIHRyYW5zZm9ybT0idHJhbnNsYXRlKC04MS43MyAtMTEzNy45OCkiLz48L3N2Zz4=\\');\\n            background-repeat: no-repeat;\\n            background-position: center;\\n            font-size: 0;\\n        }\\n\\n        .contact-us {\\n            float: right;\\n            margin: 0 20px;\\n            line-height: 60px;\\n            font-family: \"BWHaasGroteskWeb\", Helvetica, Arial, sans-serif;\\n            font-size: 14px;\\n            color: white;\\n            text-decoration: underline;\\n        }\\n\\n        .box {\\n            margin: 30px auto;\\n            padding: 30px;\\n            width: 680px;\\n            background-color: white;\\n        }\\n\\n        @media (max-width: 760px) {\\n            .box {\\n                width: calc(100% - 20px);\\n            }\\n        }\\n\\n        .main__heading, .info__heading {\\n            font-family: \"BWHaasGroteskWeb\", Helvetica, Arial, sans-serif;\\n            font-weight: bold;\\n        }\\n\\n        .main__heading {\\n            font-size: 19px;\\n            padding-bottom: 9px;\\n        }\\n\\n        .continue {\\n            font-size: 18px;\\n        }\\n\\n        #px-captcha {\\n            margin-top: 20px;\\n            min-height: 80px;\\n        }\\n\\n        .info {\\n            border-top: dotted 1px black;\\n            padding-top: 9px;\\n        }\\n\\n        .info + .info {\\n            margin-top: 30px;\\n        }\\n\\n        .info__link {\\n            color: black;\\n            text-decoration: underline;\\n        }\\n\\n        .info__heading {\\n            font-size: 16px;\\n            line-height: 20px;\\n            padding-bottom: 9px;\\n        }\\n\\n        .info__text {\\n            padding-bottom: 9px;\\n        }\\n\\n        #block_uuid {\\n            display: inline-block;\\n            padding: 6px;\\n            background-color: #f2f2f2;\\n            font-family: monospace;\\n            font-size: 14px;\\n        }\\n    </style>\\n    <script type=\"text/javascript\" async=\"\" src=\"https://www.googletagmanager.com/gtag/js?id=G-GQ1PBLXZCT&amp;l=dataLayer&amp;cx=c\"></script><script defer=\"\" src=\"https://www.googletagmanager.com/gtm.js?id=GTM-MNTH5N\"></script><script>\\n        window._pxAppId = \"PX8FCGYgk4\";\\n        window._pxJsClientSrc = \"/8FCGYgk4/init.js\";\\n        window._pxFirstPartyEnabled = true;\\n        window._pxHostUrl = \"/8FCGYgk4/xhr\";\\n        window._pxreCaptchaTheme = \"light\";\\n        window._pxUuid = qs(\"uuid\");\\n\\n        if (!window._pxUuid) {\\n            window.pxInit = function (px) {\\n                px.Events.one(\"uid\", function (uuid) {\\n                    if (uuid) {\\n                        document.getElementById(\"block_uuid\").textContent = `Block reference ID: ${ uuid }`;\\n                    }\\n                });\\n            };\\n        }\\n\\n        function qs(name) {\\n            const search = new URLSearchParams(window.location.search);\\n\\n            return search.get(name) || \"\";\\n        }\\n    </script>\\n    <script src=\"/8FCGYgk4/captcha/captcha.js?a=c&amp;m=0\" async=\"\"></script>\\n<style type=\"text/css\">.px-loader-wrapper {    display: flex;}@keyframes loadingEffect {    0% {        background-position: 0;    }    100% {        background-position: 60vw;    }}.px-inner-loading-area {    width: 310px;    height: 100px;    animation-name: loadingEffect;    animation-duration: 1.2s;    animation-iteration-count: infinite;    animation-timing-function: ease;    animation-fill-mode: forwards;    background: linear-gradient(to right, #f6f6f6 8%, #f0f0f0 18%, #f6f6f6 33%);}.px-loading-area {    width: 310px;    height: 100px;    margin: undefined;}</style><script src=\"https://client.px-cloud.net/PX8FCGYgk4/main.min.js\"></script></head>\\n<body>\\n<header class=\"header\">\\n    <h1 class=\"logo\">Bloomberg</h1>\\n    <a class=\"contact-us\" href=\"/feedback\">Need help? Contact us</a>\\n</header>\\n<section class=\"box main\">\\n    <h2 class=\"main__heading\">We\\'ve detected unusual activity from your computer network</h2>\\n    <p class=\"continue\">To continue, please click the box below to let us know you\\'re not a robot.</p>\\n    <div id=\"px-captcha\" style=\"display: block; min-width: 310px;\"><iframe style=\"display: none; width: 100%; height: 100px; border: 0px; user-select: none;\" token=\"21323e10004bd32fd71f393331b951f0d9ee47918aae34d9a9405f8b07006220ba858a62b3becdf45f3b66e75d81c4d86bcb48ecfd8d9dfea07458bad0856b75\" title=\"Human verification challenge\"></iframe></div>\\n</section>\\n<section class=\"box\">\\n    <section class=\"info\">\\n        <h3 class=\"info__heading\">Why did this happen?</h3>\\n        <p class=\"info__text\">Please make sure your browser supports JavaScript and cookies and that you are not\\n            blocking them from loading.\\n            For more information you can review our <a class=\"info__link\" href=\"/notices/tos\">Terms of\\n                Service</a> and <a class=\"info__link\" href=\"/notices/tos\">Cookie Policy</a>.</p>\\n    </section>\\n    <section class=\"info\">\\n        <h3 class=\"info__heading\">Need Help?</h3>\\n        <p class=\"info__text\">For inquiries related to this message please <a class=\"info__link\" href=\"/feedback\">contact\\n            our support team</a> and provide the reference ID below.</p>\\n        <div id=\"block_uuid\">Block reference ID: 95481a6b-2d6e-11ef-8ec8-86a39eddfe2a</div>\\n    </section>\\n</section>\\n<script type=\"text/javascript\">\\n    document.getElementById(\"block_uuid\").textContent = `Block reference ID: ${ window._pxUuid }`;\\n</script>\\n<!-- Google Tag Manager -->\\n<script>(function(w, d, s, l, i) {\\n        w[l] = w[l] || [];\\n        w[l].push({ \\'gtm.start\\': new Date().getTime(), event: \\'gtm.js\\' });\\n        var f = d.getElementsByTagName(s)[0], j = d.createElement(s), dl = l != \\'dataLayer\\' ? \\'&l=\\' + l : \\'\\';\\n        j.defer = true;\\n        j.src = \\'https://www.googletagmanager.com/gtm.js?id=\\' + i + dl;\\n        f.parentNode.insertBefore(j, f);\\n    })(window, document, \\'script\\', \\'dataLayer\\', \\'GTM-MNTH5N\\');</script>\\n<!-- End Google Tag Manager -->\\n\\n\\n<script type=\"text/javascript\" id=\"\">(function(){window.__piiRedact=window.__piiRedact||!1;var k=function(f){var c=[{name:\"EMAIL\",regex:/[^\\\\/]{4}(@|%40)(?!example\\\\.com)[^\\\\/]{4}/gi,group:\"\"},{name:\"SELF-EMAIL\",regex:/[^\\\\/]{4}(@|%40)(?=example\\\\.com)[^\\\\/]{4}/gi,group:\"\"},{name:\"TEL\",regex:/((tel=)|(telephone=)|(phone=)|(mobile=)|(mob=))[\\\\d\\\\+\\\\s][^&\\\\/\\\\?]+/gi,group:\"$1\"},{name:\"NAME\",regex:/((firstname=)|(lastname=)|(surname=))[^&\\\\/\\\\?]+/gi,group:\"$1\"},{name:\"PASSWORD\",regex:/((password=)|(passwd=)|(pass=))[^&\\\\/\\\\?]+/gi,group:\"$1\"},{name:\"ZIP\",\\nregex:/((postcode=)|(zipcode=)|(zip=))[^&\\\\/\\\\?]+/gi,group:\"$1\"}],d=function(a){return(a||document.location.search).replace(/(^\\\\?)/,\"\").split(\"\\\\x26\").map(function(b){return b=b.split(\"\\\\x3d\"),this[b[0]]=decodeURIComponent(b[1]),this}.bind({}))[0]},h=function(a){return Object.keys(a).map(function(b){return b+\"\\\\x3d\"+encodeURIComponent(a[b])}).join(\"\\\\x26\")},e=d(f),g;for(g in e)c.forEach(function(a){e[g].match(a.regex)&&(e[g]=e[g].replace(a.regex,a.group+\"[REDACTED \"+a.name+\"]\"))});return h(e)};if(!window.__piiRedact){window.__piiRedact=\\n!0;try{var l=window.navigator.sendBeacon;window.navigator.sendBeacon=function(){if(arguments&&arguments[0].match(/google-analytics\\\\.com.*v=2&/)){var f=arguments[0].split(\"?\")[0],c=arguments[0].split(\"?\")[1];c=k(c);var d=[];arguments[1]&&arguments[1].split(\"\\\\r\\\\n\").forEach(function(h){d.push(k(h))});arguments[0]=[f,c].join(\"?\");arguments[1]&&0<d.length&&d.join(\"\\\\r\\\\n\")}return l.apply(this,arguments)}}catch(f){return l.apply(this,arguments)}}})();</script></body></html>'"
      ]
     },
     "execution_count": 10,
     "metadata": {},
     "output_type": "execute_result"
    }
   ],
   "source": [
    "page_source"
   ]
  },
  {
   "cell_type": "code",
   "execution_count": null,
   "id": "6a6c7f54-d491-4f04-a886-8913dc0633ac",
   "metadata": {},
   "outputs": [],
   "source": []
  }
 ],
 "metadata": {
  "kernelspec": {
   "display_name": "Python 3 (ipykernel)",
   "language": "python",
   "name": "python3"
  },
  "language_info": {
   "codemirror_mode": {
    "name": "ipython",
    "version": 3
   },
   "file_extension": ".py",
   "mimetype": "text/x-python",
   "name": "python",
   "nbconvert_exporter": "python",
   "pygments_lexer": "ipython3",
   "version": "3.10.12"
  }
 },
 "nbformat": 4,
 "nbformat_minor": 5
}
